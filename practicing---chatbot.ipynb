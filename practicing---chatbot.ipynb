{
 "cells": [
  {
   "cell_type": "markdown",
   "id": "6c566d2c",
   "metadata": {},
   "source": [
    "## building basic chatbot"
   ]
  },
  {
   "cell_type": "code",
   "execution_count": 1,
   "id": "81d97365",
   "metadata": {},
   "outputs": [],
   "source": [
    "from typing import Annotated\n",
    "from typing_extensions import TypedDict\n",
    "from langgraph.graph import StateGraph, START, END\n",
    "from langgraph.graph.message import add_messages"
   ]
  },
  {
   "cell_type": "code",
   "execution_count": 2,
   "id": "66101ebb",
   "metadata": {},
   "outputs": [],
   "source": [
    "class State(TypedDict):\n",
    "    messages: Annotated[list, add_messages]"
   ]
  },
  {
   "cell_type": "code",
   "execution_count": 3,
   "id": "b3f2993a",
   "metadata": {},
   "outputs": [],
   "source": [
    "graph_builder = StateGraph(State)"
   ]
  },
  {
   "cell_type": "code",
   "execution_count": 4,
   "id": "1d263460",
   "metadata": {},
   "outputs": [
    {
     "data": {
      "text/plain": [
       "True"
      ]
     },
     "execution_count": 4,
     "metadata": {},
     "output_type": "execute_result"
    }
   ],
   "source": [
    "import os\n",
    "from dotenv import load_dotenv\n",
    "\n",
    "load_dotenv()"
   ]
  },
  {
   "cell_type": "code",
   "execution_count": 5,
   "id": "034b1b6d",
   "metadata": {},
   "outputs": [],
   "source": [
    "from langchain_groq import ChatGroq"
   ]
  },
  {
   "cell_type": "code",
   "execution_count": 7,
   "id": "ef8f0f67",
   "metadata": {},
   "outputs": [],
   "source": [
    "os.environ[\"GROQ_API_KEY\"] = os.getenv(\"GROQ_KEY\")"
   ]
  },
  {
   "cell_type": "code",
   "execution_count": 9,
   "id": "2b8f81ff",
   "metadata": {},
   "outputs": [],
   "source": [
    "llm = ChatGroq(\n",
    "    model=\"deepseek-r1-distill-llama-70b\",\n",
    "    temperature=0,\n",
    "    max_tokens=None,\n",
    "    reasoning_format=\"parsed\",\n",
    "    timeout=None,\n",
    "    max_retries=2,\n",
    ")"
   ]
  },
  {
   "cell_type": "code",
   "execution_count": 14,
   "id": "3a48398d",
   "metadata": {},
   "outputs": [],
   "source": [
    "## Node Functionality\n",
    "def chatbot(state:State):\n",
    "    return {\n",
    "        \"messages\" : [llm.invoke(\n",
    "            state['messages']\n",
    "        )]\n",
    "    }"
   ]
  },
  {
   "cell_type": "code",
   "execution_count": 19,
   "id": "1f357c2b",
   "metadata": {},
   "outputs": [
    {
     "data": {
      "text/plain": [
       "<langgraph.graph.state.StateGraph at 0x1b13703a3f0>"
      ]
     },
     "execution_count": 19,
     "metadata": {},
     "output_type": "execute_result"
    }
   ],
   "source": [
    "if \"chatbot\" not in graph_builder.nodes:\n",
    "    graph_builder.add_node(\"chatbot\", chatbot)\n",
    "graph_builder.add_edge(START, \"chatbot\")\n",
    "graph_builder.add_edge(\"chatbot\", END)\n"
   ]
  },
  {
   "cell_type": "code",
   "execution_count": 20,
   "id": "50ab377f",
   "metadata": {},
   "outputs": [],
   "source": [
    "graph = graph_builder.compile()"
   ]
  },
  {
   "cell_type": "code",
   "execution_count": 22,
   "id": "722c7840",
   "metadata": {},
   "outputs": [
    {
     "data": {
      "image/png": "[encoded data removed]",
      "text/plain": [
       "<IPython.core.display.Image object>"
      ]
     },
     "metadata": {},
     "output_type": "display_data"
    }
   ],
   "source": [
    "## Visualize \n",
    "from IPython.display import Image, display\n",
    "\n",
    "try:\n",
    "    display(Image(graph.get_graph().draw_mermaid_png()))\n",
    "except Exception:\n",
    "    pass"
   ]
  },
  {
   "cell_type": "code",
   "execution_count": 25,
   "id": "722ca3a3",
   "metadata": {},
   "outputs": [],
   "source": [
    "response = graph.invoke({\n",
    "    \"messages\" : \"HI\"\n",
    "})"
   ]
  },
  {
   "cell_type": "code",
   "execution_count": 29,
   "id": "2f205620",
   "metadata": {},
   "outputs": [
    {
     "data": {
      "text/plain": [
       "'Hello! How can I assist you today? 😊'"
      ]
     },
     "execution_count": 29,
     "metadata": {},
     "output_type": "execute_result"
    }
   ],
   "source": [
    "response[\"messages\"][-1].content"
   ]
  },
  {
   "cell_type": "code",
   "execution_count": 33,
   "id": "90e9019f",
   "metadata": {},
   "outputs": [
    {
     "name": "stdout",
     "output_type": "stream",
     "text": [
      "Hi! I'm just a virtual assistant, so I don't have feelings, but I'm here and ready to help you with whatever you need. I'm an AI created by DeepSeek to assist with answering questions, providing information, and helping with tasks. How can I assist you today? 😊\n"
     ]
    }
   ],
   "source": [
    "for event in graph.stream(\n",
    "    {\"messages\" : \"hi how are u, and who are u\"}\n",
    "):\n",
    "    for value in event.values():\n",
    "        print(value['messages'][-1].content)"
   ]
  },
  {
   "cell_type": "markdown",
   "id": "7e3922b8",
   "metadata": {},
   "source": [
    "## chatbot with Tool"
   ]
  },
  {
   "cell_type": "code",
   "execution_count": 34,
   "id": "94fc5e30",
   "metadata": {},
   "outputs": [
    {
     "data": {
      "text/plain": [
       "True"
      ]
     },
     "execution_count": 34,
     "metadata": {},
     "output_type": "execute_result"
    }
   ],
   "source": [
    "load_dotenv()"
   ]
  },
  {
   "cell_type": "code",
   "execution_count": null,
   "id": "c29bf089",
   "metadata": {},
   "outputs": [],
   "source": [
    "os.environ['TAVILY_API_KEY'] = os.getenv('TAVILY_KEY')"
   ]
  },
  {
   "cell_type": "code",
   "execution_count": 39,
   "id": "ddde7995",
   "metadata": {},
   "outputs": [
    {
     "data": {
      "text/plain": [
       "{'query': 'what is KamKalima',\n",
       " 'follow_up_questions': None,\n",
       " 'answer': None,\n",
       " 'images': [],\n",
       " 'results': [{'title': 'Kamkalima | Reviews 2025: Features, Price, Alternatives',\n",
       "   'url': 'https://edtechimpact.com/products/kamkalima/',\n",
       "   'content': 'Kamkalima is an innovative digital platform designed to enhance Arabic language learning for students. It provides a comprehensive suite of tools and resources tailored to meet the needs of both educators and learners. By integrating technology with traditional teaching methods, KamKalima aims to make Arabic language education more engaging and effective. One of the standout aspects of',\n",
       "   'score': 0.92442214,\n",
       "   'raw_content': None},\n",
       "  {'title': 'Kamkalima - Classlink Integration Guide',\n",
       "   'url': 'https://support.kamkalima.com/kamkalima-classlink-integration-guide',\n",
       "   'content': 'Kamkalima is an Arabic educational platform for learning and teaching in schools. We empower Arabic classrooms with the needed tools, resources, and support to raise a generation of students armed with 21st-century skills, and to inspire teachers to do what they do best, teach.',\n",
       "   'score': 0.9240941,\n",
       "   'raw_content': None}],\n",
       " 'response_time': 1.33}"
      ]
     },
     "execution_count": 39,
     "metadata": {},
     "output_type": "execute_result"
    }
   ],
   "source": [
    "from langchain_tavily import TavilySearch\n",
    "\n",
    "tool = TavilySearch(max_results=2)\n",
    "tool.invoke(\"what is KamKalima\")"
   ]
  },
  {
   "cell_type": "code",
   "execution_count": 71,
   "id": "01d0de91",
   "metadata": {},
   "outputs": [],
   "source": [
    "def add(a: int, b: int) -> int:\n",
    "    \"\"\"\n",
    "    Add two integers.\n",
    "\n",
    "    Args:\n",
    "        a (int): The first integer.\n",
    "        b (int): The second integer.\n",
    "\n",
    "    Returns:\n",
    "        int: The sum of the two integers.\n",
    "    \"\"\"\n",
    "    return a + b\n",
    "\n",
    "def multiply(a: int, b: int) -> int:\n",
    "    \"\"\"\n",
    "    Multiply two integers.\n",
    "\n",
    "    Args:\n",
    "        a (int): The first integer.\n",
    "        b (int): The second integer.\n",
    "\n",
    "    Returns:\n",
    "        int: The multiplication of the two integers.\n",
    "    \"\"\"\n",
    "    return a * b\n"
   ]
  },
  {
   "cell_type": "code",
   "execution_count": 72,
   "id": "7adb21da",
   "metadata": {},
   "outputs": [],
   "source": [
    "tools = [tool, add, multiply]"
   ]
  },
  {
   "cell_type": "code",
   "execution_count": 73,
   "id": "46eaeb54",
   "metadata": {},
   "outputs": [
    {
     "data": {
      "text/plain": [
       "RunnableBinding(bound=ChatGroq(client=<groq.resources.chat.completions.Completions object at 0x000001B1386708F0>, async_client=<groq.resources.chat.completions.AsyncCompletions object at 0x000001B138670C80>, model_name='deepseek-r1-distill-llama-70b', temperature=1e-08, reasoning_format='parsed', model_kwargs={}, groq_api_key=SecretStr('**********')), kwargs={'tools': [{'type': 'function', 'function': {'name': 'tavily_search', 'description': 'A search engine optimized for comprehensive, accurate, and trusted results. Useful for when you need to answer questions about current events. It not only retrieves URLs and snippets, but offers advanced search depths, domain management, time range filters, and image search, this tool delivers real-time, accurate, and citation-backed results.Input should be a search query.', 'parameters': {'properties': {'query': {'description': 'Search query to look up', 'type': 'string'}, 'include_domains': {'anyOf': [{'items': {'type': 'string'}, 'type': 'array'}, {'type': 'null'}], 'default': [], 'description': 'A list of domains to restrict search results to.\\n\\n        Use this parameter when:\\n        1. The user explicitly requests information from specific websites (e.g., \"Find climate data from nasa.gov\")\\n        2. The user mentions an organization or company without specifying the domain (e.g., \"Find information about iPhones from Apple\")\\n\\n        In both cases, you should determine the appropriate domains (e.g., [\"nasa.gov\"] or [\"apple.com\"]) and set this parameter.\\n\\n        Results will ONLY come from the specified domains - no other sources will be included.\\n        Default is None (no domain restriction).\\n        '}, 'exclude_domains': {'anyOf': [{'items': {'type': 'string'}, 'type': 'array'}, {'type': 'null'}], 'default': [], 'description': 'A list of domains to exclude from search results.\\n\\n        Use this parameter when:\\n        1. The user explicitly requests to avoid certain websites (e.g., \"Find information about climate change but not from twitter.com\")\\n        2. The user mentions not wanting results from specific organizations without naming the domain (e.g., \"Find phone reviews but nothing from Apple\")\\n\\n        In both cases, you should determine the appropriate domains to exclude (e.g., [\"twitter.com\"] or [\"apple.com\"]) and set this parameter.\\n\\n        Results will filter out all content from the specified domains.\\n        Default is None (no domain exclusion).\\n        '}, 'search_depth': {'anyOf': [{'enum': ['basic', 'advanced'], 'type': 'string'}, {'type': 'null'}], 'default': 'basic', 'description': 'Controls search thoroughness and result comprehensiveness.\\n    \\n        Use \"basic\" for simple queries requiring quick, straightforward answers.\\n        \\n        Use \"advanced\" (default) for complex queries, specialized topics, \\n        rare information, or when in-depth analysis is needed.\\n        '}, 'include_images': {'anyOf': [{'type': 'boolean'}, {'type': 'null'}], 'default': False, 'description': 'Determines if the search returns relevant images along with text results.\\n   \\n        Set to True when the user explicitly requests visuals or when images would \\n        significantly enhance understanding (e.g., \"Show me what black holes look like,\" \\n        \"Find pictures of Renaissance art\").\\n        \\n        Leave as False (default) for most informational queries where text is sufficient.\\n        '}, 'time_range': {'anyOf': [{'enum': ['day', 'week', 'month', 'year'], 'type': 'string'}, {'type': 'null'}], 'default': None, 'description': 'Limits results to content published within a specific timeframe.\\n        \\n        ONLY set this when the user explicitly mentions a time period \\n        (e.g., \"latest AI news,\" \"articles from last week\").\\n        \\n        For less popular or niche topics, use broader time ranges \\n        (\"month\" or \"year\") to ensure sufficient relevant results.\\n   \\n        Options: \"day\" (24h), \"week\" (7d), \"month\" (30d), \"year\" (365d).\\n        \\n        Default is None.\\n        '}, 'topic': {'anyOf': [{'enum': ['general', 'news', 'finance'], 'type': 'string'}, {'type': 'null'}], 'default': 'general', 'description': 'Specifies search category for optimized results.\\n   \\n        Use \"general\" (default) for most queries, INCLUDING those with terms like \\n        \"latest,\" \"newest,\" or \"recent\" when referring to general information.\\n\\n        Use \"finance\" for markets, investments, economic data, or financial news.\\n\\n        Use \"news\" ONLY for politics, sports, or major current events covered by \\n        mainstream media - NOT simply because a query asks for \"new\" information.\\n        '}}, 'required': ['query'], 'type': 'object'}}}, {'type': 'function', 'function': {'name': 'add', 'description': 'Add two integers.', 'parameters': {'properties': {'a': {'description': 'The first integer.', 'type': 'integer'}, 'b': {'description': 'The second integer.', 'type': 'integer'}}, 'required': ['a', 'b'], 'type': 'object'}}}, {'type': 'function', 'function': {'name': 'multiply', 'description': 'Multiply two integers.', 'parameters': {'properties': {'a': {'description': 'The first integer.', 'type': 'integer'}, 'b': {'description': 'The second integer.', 'type': 'integer'}}, 'required': ['a', 'b'], 'type': 'object'}}}]}, config={}, config_factories=[])"
      ]
     },
     "execution_count": 73,
     "metadata": {},
     "output_type": "execute_result"
    }
   ],
   "source": [
    "llm_with_tools = llm.bind_tools(tools)\n",
    "llm_with_tools"
   ]
  },
  {
   "cell_type": "code",
   "execution_count": 74,
   "id": "baa45584",
   "metadata": {},
   "outputs": [],
   "source": [
    "# Stategraph\n",
    "from langgraph.graph import StateGraph, START, END\n",
    "from langgraph.prebuilt import ToolNode\n",
    "from langgraph.prebuilt import tools_condition"
   ]
  },
  {
   "cell_type": "code",
   "execution_count": 75,
   "id": "fbdca4ee",
   "metadata": {},
   "outputs": [],
   "source": [
    "## Node Definiton \n",
    "def chatbot_tool_calling(state:State):\n",
    "    return {\n",
    "        \"messages\" : [llm_with_tools.invoke(state['messages'])]\n",
    "    }"
   ]
  },
  {
   "cell_type": "code",
   "execution_count": 83,
   "id": "1b755b80",
   "metadata": {},
   "outputs": [
    {
     "data": {
      "image/png": "[encoded data removed]",
      "text/plain": [
       "<IPython.core.display.Image object>"
      ]
     },
     "metadata": {},
     "output_type": "display_data"
    }
   ],
   "source": [
    "## Stategraph\n",
    "from langgraph.graph import StateGraph,START,END\n",
    "from langgraph.prebuilt import ToolNode\n",
    "from langgraph.prebuilt import tools_condition\n",
    "\n",
    "## Node definition\n",
    "def tool_calling_llm(state:State):\n",
    "    return {\"messages\":[llm_with_tools.invoke(state[\"messages\"])]}\n",
    "\n",
    "## Grpah\n",
    "builder=StateGraph(State)\n",
    "builder.add_node(\"tool_calling_llm\",tool_calling_llm)\n",
    "builder.add_node(\"tools\",ToolNode(tools))\n",
    "\n",
    "## Add Edges\n",
    "builder.add_edge(START, \"tool_calling_llm\")\n",
    "builder.add_conditional_edges(\n",
    "    \"tool_calling_llm\",\n",
    "    # If the latest message (result) from assistant is a tool call -> tools_condition routes to tools\n",
    "    # If the latest message (result) from assistant is a not a tool call -> tools_condition routes to END\n",
    "    tools_condition\n",
    ")\n",
    "builder.add_edge(\"tools\",END)\n",
    "\n",
    "## compile the graph\n",
    "graph=builder.compile()\n",
    "\n",
    "from IPython.display import Image, display\n",
    "display(Image(graph.get_graph().draw_mermaid_png()))"
   ]
  },
  {
   "cell_type": "code",
   "execution_count": 84,
   "id": "66639071",
   "metadata": {},
   "outputs": [],
   "source": [
    "response=graph.invoke({\"messages\":\"What is the recent ai news\"})"
   ]
  },
  {
   "cell_type": "code",
   "execution_count": 85,
   "id": "506d4caf",
   "metadata": {},
   "outputs": [
    {
     "data": {
      "text/plain": [
       "'{\"query\": \"recent AI news\", \"follow_up_questions\": null, \"answer\": null, \"images\": [\"https://autogpt.net/wp-content/uploads/2023/07/Pogla_Explore_the_latest_AI_news_from_groundbreaking_drug_trial_07ab875d-1e11-42d5-89ef-39ff3d5ab451.jpg\", \"https://assets.weforum.org/editor/Ktdhn0KNfhbpY_AE77yZFRYJ9zUl9hnFcncbE53QzUQ.PNG\", \"http://www.marktechpost.com/wp-content/uploads/2023/04/future-artificial-intelligence-robot-network-system-background-scaled.jpg\", \"https://www.solulab.com/wp-content/uploads/2024/01/Top-Artificial-Intelligence-Trends.jpg\", \"https://statusneo.com/wp-content/uploads/2023/04/MicrosoftTeams-image.jpg\"], \"results\": [{\"url\": \"https://www.newsweek.com/nw-ai/ai-impact-awards-2025-science-engineering-2084754\", \"title\": \"AI Impact Awards 2025: The Changing Human Role in Science and Engineering - Newsweek\", \"score\": 0.7251239, \"published_date\": \"Wed, 25 Jun 2025 10:02:01 GMT\", \"content\": \"Newsweek _\\\\\\\\_will continue the conversation on meaningful AI innovations at our AI Impact Summit from June 23 to 25 in Sonoma, California. Click here to follow along on the live blog.\\\\\\\\__\\\\n\\\\nRequest Reprint & LicensingSubmit CorrectionView Editorial Guidelines\\\\n\\\\nSHARE:xfacebooklinkedinredditemailwhatsappCopy & Share\\\\n\\\\n✓ Link copied to clipboard!\\\\n\\\\nThe Latest in AI\\\\n----------------\\\\n\\\\nNEWSWEEK.AI\\\\n\\\\n06.09.25\\\\n\\\\n### Generative AI\\'s Mission to Explore Strange New Worlds [...] ### AI Will Connect Mercedes-Benz Places Residents to the World\\\\n\\\\nThe new Miami condo complex will have state-of-the-art technology.\\\\n\\\\nArtificial Intelligence Miami\\\\n\\\\nNEWS\\\\n\\\\n06.04.25\\\\n\\\\n### Reddit Sues AI Provider for Breach of Contract\\\\n\\\\nThe AI start up Anthropic has allegedly engaged in \\\\\"unlawful and unfair business acts.\\\\\"\\\\n\\\\nReddit AI\\\\n\\\\nTECHNOLOGY\\\\n\\\\n06.02.25\\\\n\\\\n### Could AI Save Small Businesses? Mindbody Makes a Case to Wellness Brands\", \"raw_content\": null}, {\"url\": \"https://www.biotechniques.com/computational-biology/slaseurope2025_evolving-ai-the-age-of-small-data-llms-and-privacy-preserving-computations/\", \"title\": \"Evolving AI: the age of small data, LLMs and privacy-preserving computations - BioTechniques\", \"score\": 0.68748367, \"published_date\": \"Tue, 24 Jun 2025 11:16:54 GMT\", \"content\": \"#### Filtering out unreliable COVID-19 research\\\\n\\\\nImage 7\\\\n\\\\n15 JUL 2022LAB DESIGN AND MACHINERY\\\\n\\\\n#### Automating ultrasound scanning\\\\n\\\\nImage 8\\\\n\\\\n7 SEP 2018CANCER RESEARCH\\\\n\\\\n#### Artificial intelligence turns its attention to cancer\\\\n\\\\nImage 9\\\\n\\\\n23 DEC 2019LAB DESIGN AND MACHINERY\\\\n\\\\n#### Anne Carpenter on artificial intelligence in the cell imaging field\\\\n\\\\nImage 10: AI automation aiforia\\\\n\\\\n1 JUL 2020NEWS\\\\n\\\\n#### AI is here to supercharge pathologists, not replace them\\\\n\\\\nImage 11\", \"raw_content\": null}], \"response_time\": 2.67}'"
      ]
     },
     "execution_count": 85,
     "metadata": {},
     "output_type": "execute_result"
    }
   ],
   "source": [
    "response['messages'][-1].content"
   ]
  },
  {
   "cell_type": "code",
   "execution_count": 86,
   "id": "449a8bae",
   "metadata": {},
   "outputs": [
    {
     "name": "stdout",
     "output_type": "stream",
     "text": [
      "================================\u001b[1m Human Message \u001b[0m=================================\n",
      "\n",
      "What is the recent ai news\n",
      "==================================\u001b[1m Ai Message \u001b[0m==================================\n",
      "Tool Calls:\n",
      "  tavily_search (mf61mnn06)\n",
      " Call ID: mf61mnn06\n",
      "  Args:\n",
      "    include_images: True\n",
      "    query: recent AI news\n",
      "    search_depth: advanced\n",
      "    time_range: week\n",
      "    topic: news\n",
      "=================================\u001b[1m Tool Message \u001b[0m=================================\n",
      "Name: tavily_search\n",
      "\n",
      "{\"query\": \"recent AI news\", \"follow_up_questions\": null, \"answer\": null, \"images\": [\"https://autogpt.net/wp-content/uploads/2023/07/Pogla_Explore_the_latest_AI_news_from_groundbreaking_drug_trial_07ab875d-1e11-42d5-89ef-39ff3d5ab451.jpg\", \"https://assets.weforum.org/editor/Ktdhn0KNfhbpY_AE77yZFRYJ9zUl9hnFcncbE53QzUQ.PNG\", \"http://www.marktechpost.com/wp-content/uploads/2023/04/future-artificial-intelligence-robot-network-system-background-scaled.jpg\", \"https://www.solulab.com/wp-content/uploads/2024/01/Top-Artificial-Intelligence-Trends.jpg\", \"https://statusneo.com/wp-content/uploads/2023/04/MicrosoftTeams-image.jpg\"], \"results\": [{\"url\": \"https://www.newsweek.com/nw-ai/ai-impact-awards-2025-science-engineering-2084754\", \"title\": \"AI Impact Awards 2025: The Changing Human Role in Science and Engineering - Newsweek\", \"score\": 0.7251239, \"published_date\": \"Wed, 25 Jun 2025 10:02:01 GMT\", \"content\": \"Newsweek _\\\\_will continue the conversation on meaningful AI innovations at our AI Impact Summit from June 23 to 25 in Sonoma, California. Click here to follow along on the live blog.\\\\__\\n\\nRequest Reprint & LicensingSubmit CorrectionView Editorial Guidelines\\n\\nSHARE:xfacebooklinkedinredditemailwhatsappCopy & Share\\n\\n✓ Link copied to clipboard!\\n\\nThe Latest in AI\\n----------------\\n\\nNEWSWEEK.AI\\n\\n06.09.25\\n\\n### Generative AI's Mission to Explore Strange New Worlds [...] ### AI Will Connect Mercedes-Benz Places Residents to the World\\n\\nThe new Miami condo complex will have state-of-the-art technology.\\n\\nArtificial Intelligence Miami\\n\\nNEWS\\n\\n06.04.25\\n\\n### Reddit Sues AI Provider for Breach of Contract\\n\\nThe AI start up Anthropic has allegedly engaged in \\\"unlawful and unfair business acts.\\\"\\n\\nReddit AI\\n\\nTECHNOLOGY\\n\\n06.02.25\\n\\n### Could AI Save Small Businesses? Mindbody Makes a Case to Wellness Brands\", \"raw_content\": null}, {\"url\": \"https://www.biotechniques.com/computational-biology/slaseurope2025_evolving-ai-the-age-of-small-data-llms-and-privacy-preserving-computations/\", \"title\": \"Evolving AI: the age of small data, LLMs and privacy-preserving computations - BioTechniques\", \"score\": 0.68748367, \"published_date\": \"Tue, 24 Jun 2025 11:16:54 GMT\", \"content\": \"#### Filtering out unreliable COVID-19 research\\n\\nImage 7\\n\\n15 JUL 2022LAB DESIGN AND MACHINERY\\n\\n#### Automating ultrasound scanning\\n\\nImage 8\\n\\n7 SEP 2018CANCER RESEARCH\\n\\n#### Artificial intelligence turns its attention to cancer\\n\\nImage 9\\n\\n23 DEC 2019LAB DESIGN AND MACHINERY\\n\\n#### Anne Carpenter on artificial intelligence in the cell imaging field\\n\\nImage 10: AI automation aiforia\\n\\n1 JUL 2020NEWS\\n\\n#### AI is here to supercharge pathologists, not replace them\\n\\nImage 11\", \"raw_content\": null}], \"response_time\": 2.67}\n"
     ]
    }
   ],
   "source": [
    "for m in response['messages']:\n",
    "    m.pretty_print()\n"
   ]
  },
  {
   "cell_type": "code",
   "execution_count": 87,
   "id": "9101fbe6",
   "metadata": {},
   "outputs": [
    {
     "name": "stdout",
     "output_type": "stream",
     "text": [
      "================================\u001b[1m Human Message \u001b[0m=================================\n",
      "\n",
      "What is 5 multiplied by 2\n",
      "==================================\u001b[1m Ai Message \u001b[0m==================================\n",
      "Tool Calls:\n",
      "  multiply (3p77r573q)\n",
      " Call ID: 3p77r573q\n",
      "  Args:\n",
      "    a: 5\n",
      "    b: 2\n",
      "=================================\u001b[1m Tool Message \u001b[0m=================================\n",
      "Name: multiply\n",
      "\n",
      "10\n"
     ]
    }
   ],
   "source": [
    "response=graph.invoke({\"messages\":\"What is 5 multiplied by 2\"})\n",
    "for m in response['messages']:\n",
    "    m.pretty_print()"
   ]
  },
  {
   "cell_type": "code",
   "execution_count": null,
   "id": "1d709496",
   "metadata": {},
   "outputs": [
    {
     "name": "stdout",
     "output_type": "stream",
     "text": [
      "================================\u001b[1m Human Message \u001b[0m=================================\n",
      "\n",
      "what is 5*2 ? and then multiply by 7\n",
      "==================================\u001b[1m Ai Message \u001b[0m==================================\n",
      "Tool Calls:\n",
      "  multiply (1ve2adrhn)\n",
      " Call ID: 1ve2adrhn\n",
      "  Args:\n",
      "    a: 5\n",
      "    b: 2\n",
      "=================================\u001b[1m Tool Message \u001b[0m=================================\n",
      "Name: multiply\n",
      "\n",
      "10\n"
     ]
    }
   ],
   "source": [
    "response=graph.invoke({\"messages\":\"what is 5*2 ? and then multiply by 7\"}) # the agent will failed to do the second part \n",
    "for m in response['messages']:\n",
    "    m.pretty_print()"
   ]
  },
  {
   "cell_type": "markdown",
   "id": "b3eecfeb",
   "metadata": {},
   "source": [
    "## ReAct Agent"
   ]
  },
  {
   "cell_type": "code",
   "execution_count": 92,
   "id": "98d0d211",
   "metadata": {},
   "outputs": [
    {
     "data": {
      "image/png": "[encoded data removed]",
      "text/plain": [
       "<IPython.core.display.Image object>"
      ]
     },
     "metadata": {},
     "output_type": "display_data"
    }
   ],
   "source": [
    "## Stategraph\n",
    "from langgraph.graph import StateGraph,START,END\n",
    "from langgraph.prebuilt import ToolNode\n",
    "from langgraph.prebuilt import tools_condition\n",
    "\n",
    "## Node definition\n",
    "def tool_calling_llm(state:State):\n",
    "    return {\"messages\":[llm_with_tools.invoke(state[\"messages\"])]}\n",
    "\n",
    "## Grpah\n",
    "builder=StateGraph(State)\n",
    "builder.add_node(\"tool_calling_llm\",tool_calling_llm)\n",
    "builder.add_node(\"tools\",ToolNode(tools))\n",
    "\n",
    "## Add Edges\n",
    "builder.add_edge(START, \"tool_calling_llm\")\n",
    "builder.add_conditional_edges(\n",
    "    \"tool_calling_llm\",\n",
    "    # If the latest message (result) from assistant is a tool call -> tools_condition routes to tools\n",
    "    # If the latest message (result) from assistant is a not a tool call -> tools_condition routes to END\n",
    "    tools_condition\n",
    ")\n",
    "\n",
    "builder.add_edge(\"tools\", \"tool_calling_llm\")\n",
    "## compile the graph\n",
    "graph=builder.compile()\n",
    "\n",
    "from IPython.display import Image, display\n",
    "display(Image(graph.get_graph().draw_mermaid_png()))"
   ]
  },
  {
   "cell_type": "code",
   "execution_count": 93,
   "id": "68f20e62",
   "metadata": {},
   "outputs": [
    {
     "name": "stdout",
     "output_type": "stream",
     "text": [
      "================================\u001b[1m Human Message \u001b[0m=================================\n",
      "\n",
      "what is 5*2 ? and then multiply by 7\n",
      "==================================\u001b[1m Ai Message \u001b[0m==================================\n",
      "Tool Calls:\n",
      "  multiply (czr7ebk1a)\n",
      " Call ID: czr7ebk1a\n",
      "  Args:\n",
      "    a: 5\n",
      "    b: 2\n",
      "=================================\u001b[1m Tool Message \u001b[0m=================================\n",
      "Name: multiply\n",
      "\n",
      "10\n",
      "==================================\u001b[1m Ai Message \u001b[0m==================================\n",
      "Tool Calls:\n",
      "  multiply (bb4xjc6nb)\n",
      " Call ID: bb4xjc6nb\n",
      "  Args:\n",
      "    a: 5\n",
      "    b: 2\n",
      "=================================\u001b[1m Tool Message \u001b[0m=================================\n",
      "Name: multiply\n",
      "\n",
      "10\n",
      "==================================\u001b[1m Ai Message \u001b[0m==================================\n",
      "Tool Calls:\n",
      "  multiply (72dxkzr2k)\n",
      " Call ID: 72dxkzr2k\n",
      "  Args:\n",
      "    a: 5\n",
      "    b: 2\n",
      "=================================\u001b[1m Tool Message \u001b[0m=================================\n",
      "Name: multiply\n",
      "\n",
      "10\n",
      "==================================\u001b[1m Ai Message \u001b[0m==================================\n",
      "Tool Calls:\n",
      "  multiply (rh3v6pgg6)\n",
      " Call ID: rh3v6pgg6\n",
      "  Args:\n",
      "    a: 5\n",
      "    b: 2\n",
      "=================================\u001b[1m Tool Message \u001b[0m=================================\n",
      "Name: multiply\n",
      "\n",
      "10\n",
      "==================================\u001b[1m Ai Message \u001b[0m==================================\n",
      "Tool Calls:\n",
      "  multiply (1y3xvmacf)\n",
      " Call ID: 1y3xvmacf\n",
      "  Args:\n",
      "    a: 5\n",
      "    b: 2\n",
      "=================================\u001b[1m Tool Message \u001b[0m=================================\n",
      "Name: multiply\n",
      "\n",
      "10\n",
      "==================================\u001b[1m Ai Message \u001b[0m==================================\n",
      "Tool Calls:\n",
      "  multiply (34datdxwv)\n",
      " Call ID: 34datdxwv\n",
      "  Args:\n",
      "    a: 5\n",
      "    b: 2\n",
      "=================================\u001b[1m Tool Message \u001b[0m=================================\n",
      "Name: multiply\n",
      "\n",
      "10\n",
      "==================================\u001b[1m Ai Message \u001b[0m==================================\n",
      "Tool Calls:\n",
      "  multiply (srvkxpjrt)\n",
      " Call ID: srvkxpjrt\n",
      "  Args:\n",
      "    a: 10\n",
      "    b: 7\n",
      "=================================\u001b[1m Tool Message \u001b[0m=================================\n",
      "Name: multiply\n",
      "\n",
      "70\n",
      "==================================\u001b[1m Ai Message \u001b[0m==================================\n",
      "\n",
      "The result of 5 multiplied by 2 is 10. Then, multiplying that result by 7 gives 70.\n",
      "\n",
      "**Step-by-Step Explanation:**\n",
      "\n",
      "1. **First Multiplication:**\n",
      "   - Multiply 5 by 2:\n",
      "     \\[\n",
      "     5 \\times 2 = 10\n",
      "     \\]\n",
      "\n",
      "2. **Second Multiplication:**\n",
      "   - Take the result from the first step (10) and multiply it by 7:\n",
      "     \\[\n",
      "     10 \\times 7 = 70\n",
      "     \\]\n",
      "\n",
      "**Final Answer:**\n",
      "\\[\n",
      "5 \\times 2 \\times 7 = 70\n",
      "\\]\n"
     ]
    }
   ],
   "source": [
    "response=graph.invoke({\"messages\":\"what is 5*2 ? and then multiply by 7\"})\n",
    "for m in response['messages']:\n",
    "    m.pretty_print()"
   ]
  },
  {
   "cell_type": "code",
   "execution_count": 94,
   "id": "acdbaab0",
   "metadata": {},
   "outputs": [
    {
     "name": "stdout",
     "output_type": "stream",
     "text": [
      "================================\u001b[1m Human Message \u001b[0m=================================\n",
      "\n",
      "Do you my name\n",
      "==================================\u001b[1m Ai Message \u001b[0m==================================\n",
      "\n",
      "I don't have access to your personal information, including your name. If you'd like, you can share it with me, and I'll be happy to assist you further! How can I help you today?\n"
     ]
    }
   ],
   "source": [
    "response=graph.invoke({\"messages\":\"Do you my name\"})\n",
    "for m in response['messages']:\n",
    "    m.pretty_print()"
   ]
  },
  {
   "cell_type": "markdown",
   "id": "4e22ab52",
   "metadata": {},
   "source": [
    "## Agent with Memory"
   ]
  },
  {
   "cell_type": "code",
   "execution_count": 97,
   "id": "3f076d41",
   "metadata": {},
   "outputs": [
    {
     "data": {
      "image/png": "[encoded data removed]",
      "text/plain": [
       "<IPython.core.display.Image object>"
      ]
     },
     "metadata": {},
     "output_type": "display_data"
    }
   ],
   "source": [
    "## Stategraph\n",
    "from langgraph.graph import StateGraph,START,END\n",
    "from langgraph.prebuilt import ToolNode\n",
    "from langgraph.prebuilt import tools_condition\n",
    "from langgraph.checkpoint.memory import MemorySaver\n",
    "\n",
    "memory = MemorySaver()\n",
    "\n",
    "## Node definition\n",
    "def tool_calling_llm(state:State):\n",
    "    return {\"messages\":[llm_with_tools.invoke(state[\"messages\"])]}\n",
    "\n",
    "## Grpah\n",
    "builder=StateGraph(State)\n",
    "builder.add_node(\"tool_calling_llm\",tool_calling_llm)\n",
    "builder.add_node(\"tools\",ToolNode(tools))\n",
    "\n",
    "## Add Edges\n",
    "builder.add_edge(START, \"tool_calling_llm\")\n",
    "builder.add_conditional_edges(\n",
    "    \"tool_calling_llm\",\n",
    "    # If the latest message (result) from assistant is a tool call -> tools_condition routes to tools\n",
    "    # If the latest message (result) from assistant is a not a tool call -> tools_condition routes to END\n",
    "    tools_condition\n",
    ")\n",
    "builder.add_edge(\"tools\",END)\n",
    "\n",
    "## compile the graph\n",
    "graph=builder.compile(checkpointer=memory)\n",
    "\n",
    "from IPython.display import Image, display\n",
    "display(Image(graph.get_graph().draw_mermaid_png()))"
   ]
  },
  {
   "cell_type": "code",
   "execution_count": 99,
   "id": "8d13d382",
   "metadata": {},
   "outputs": [
    {
     "name": "stdout",
     "output_type": "stream",
     "text": [
      "================================\u001b[1m Human Message \u001b[0m=================================\n",
      "\n",
      "Hi my name is ALI\n",
      "==================================\u001b[1m Ai Message \u001b[0m==================================\n",
      "Tool Calls:\n",
      "  tavily_search (6y11gny3t)\n",
      " Call ID: 6y11gny3t\n",
      "  Args:\n",
      "    exclude_domains: None\n",
      "    include_domains: None\n",
      "    include_images: None\n",
      "    query: ALI\n",
      "    search_depth: basic\n",
      "    time_range: None\n",
      "    topic: general\n",
      "=================================\u001b[1m Tool Message \u001b[0m=================================\n",
      "Name: tavily_search\n",
      "\n",
      "{\"query\": \"ALI\", \"follow_up_questions\": null, \"answer\": null, \"images\": [], \"results\": [{\"title\": \"Muhammad Ali - Wikipedia\", \"url\": \"https://en.wikipedia.org/wiki/Muhammad_Ali\", \"content\": \"Soon after the Liston fight, Clay changed his name to Cassius X, and then later to Muhammad Ali upon converting to the Nation of Islam. In speaking of the cost on Ali's career of his refusal to be drafted, his trainer Angelo Dundee said, \\\"One thing must be taken into account when talking about Ali: He was robbed of his best years, his prime years.\\\" Ali's promoter Bob Arum did not support Ali's choice at the time, but in 2016 Arum stated: \\\"when I look back at his life, and I was blessed to call him a friend and spent a lot of time with him, it's hard for me to talk about his exploits in boxing because as great as they were they paled in comparison to the impact that he had on the world.\", \"score\": 0.54608524, \"raw_content\": null}, {\"title\": \"AliExpress - Affordable Prices on Top Brands with Free Shipping\", \"url\": \"https://www.aliexpress.com/\", \"content\": \"A: Yes, AliExpress ships to the USA, and it offers multiple shipping options depending on the seller and the product. A: Getting free items on AliExpress is possible through their \\\"Freebies\\\" program, which allows users to apply for free products in exchange for honest reviews. Q: Does AliExpress have free shipping? A: Yes, many sellers on AliExpress offer free shipping as a way to attract buyers. A: Yes, AliExpress has a return policy that allows buyers to return most items within a specified period, typically ranging from 15 to 30 days after delivery, provided the item is unused and meets the seller's return conditions. Many sellers on AliExpress also offer free returns, especially for select products or during promotional events.\", \"score\": 0.12496949, \"raw_content\": null}], \"response_time\": 1.61}\n",
      "================================\u001b[1m Human Message \u001b[0m=================================\n",
      "\n",
      "Hi my name is ALI\n",
      "==================================\u001b[1m Ai Message \u001b[0m==================================\n",
      "\n",
      "Hello, ALI! It's nice to meet you. If you're interested, I can share some information about the name \"ALI\" or anything else you'd like to know. Just let me know how I can assist you!\n"
     ]
    }
   ],
   "source": [
    "config={\"configurable\":{\"thread_id\":\"1\"}}\n",
    "\n",
    "response=graph.invoke({\"messages\":\"Hi my name is ALI\"},config=config)\n",
    "\n",
    "for m in response['messages']:\n",
    "    m.pretty_print()"
   ]
  },
  {
   "cell_type": "code",
   "execution_count": 100,
   "id": "4303dce6",
   "metadata": {},
   "outputs": [
    {
     "name": "stdout",
     "output_type": "stream",
     "text": [
      "================================\u001b[1m Human Message \u001b[0m=================================\n",
      "\n",
      "Hi my name is ALI\n",
      "==================================\u001b[1m Ai Message \u001b[0m==================================\n",
      "Tool Calls:\n",
      "  tavily_search (6y11gny3t)\n",
      " Call ID: 6y11gny3t\n",
      "  Args:\n",
      "    exclude_domains: None\n",
      "    include_domains: None\n",
      "    include_images: None\n",
      "    query: ALI\n",
      "    search_depth: basic\n",
      "    time_range: None\n",
      "    topic: general\n",
      "=================================\u001b[1m Tool Message \u001b[0m=================================\n",
      "Name: tavily_search\n",
      "\n",
      "{\"query\": \"ALI\", \"follow_up_questions\": null, \"answer\": null, \"images\": [], \"results\": [{\"title\": \"Muhammad Ali - Wikipedia\", \"url\": \"https://en.wikipedia.org/wiki/Muhammad_Ali\", \"content\": \"Soon after the Liston fight, Clay changed his name to Cassius X, and then later to Muhammad Ali upon converting to the Nation of Islam. In speaking of the cost on Ali's career of his refusal to be drafted, his trainer Angelo Dundee said, \\\"One thing must be taken into account when talking about Ali: He was robbed of his best years, his prime years.\\\" Ali's promoter Bob Arum did not support Ali's choice at the time, but in 2016 Arum stated: \\\"when I look back at his life, and I was blessed to call him a friend and spent a lot of time with him, it's hard for me to talk about his exploits in boxing because as great as they were they paled in comparison to the impact that he had on the world.\", \"score\": 0.54608524, \"raw_content\": null}, {\"title\": \"AliExpress - Affordable Prices on Top Brands with Free Shipping\", \"url\": \"https://www.aliexpress.com/\", \"content\": \"A: Yes, AliExpress ships to the USA, and it offers multiple shipping options depending on the seller and the product. A: Getting free items on AliExpress is possible through their \\\"Freebies\\\" program, which allows users to apply for free products in exchange for honest reviews. Q: Does AliExpress have free shipping? A: Yes, many sellers on AliExpress offer free shipping as a way to attract buyers. A: Yes, AliExpress has a return policy that allows buyers to return most items within a specified period, typically ranging from 15 to 30 days after delivery, provided the item is unused and meets the seller's return conditions. Many sellers on AliExpress also offer free returns, especially for select products or during promotional events.\", \"score\": 0.12496949, \"raw_content\": null}], \"response_time\": 1.61}\n",
      "================================\u001b[1m Human Message \u001b[0m=================================\n",
      "\n",
      "Hi my name is ALI\n",
      "==================================\u001b[1m Ai Message \u001b[0m==================================\n",
      "\n",
      "Hello, ALI! It's nice to meet you. If you're interested, I can share some information about the name \"ALI\" or anything else you'd like to know. Just let me know how I can assist you!\n",
      "================================\u001b[1m Human Message \u001b[0m=================================\n",
      "\n",
      "what is my name\n",
      "==================================\u001b[1m Ai Message \u001b[0m==================================\n",
      "\n",
      "Your name is **ALI**! If you'd like, I can share some interesting facts or meanings related to the name \"ALI.\" Let me know how I can assist! 😊\n"
     ]
    }
   ],
   "source": [
    "config={\"configurable\":{\"thread_id\":\"1\"}}\n",
    "\n",
    "response=graph.invoke({\"messages\":\"what is my name\"},config=config)\n",
    "\n",
    "for m in response['messages']:\n",
    "    m.pretty_print()"
   ]
  },
  {
   "cell_type": "markdown",
   "id": "a7ea3959",
   "metadata": {},
   "source": [
    "## Streaming in langgraph"
   ]
  },
  {
   "cell_type": "code",
   "execution_count": 104,
   "id": "4d60f531",
   "metadata": {},
   "outputs": [
    {
     "data": {
      "image/png": "[encoded data removed]",
      "text/plain": [
       "<IPython.core.display.Image object>"
      ]
     },
     "metadata": {},
     "output_type": "display_data"
    }
   ],
   "source": [
    "## Stategraph\n",
    "from langgraph.graph import StateGraph,START,END\n",
    "from langgraph.checkpoint.memory import MemorySaver\n",
    "\n",
    "memory = MemorySaver()\n",
    "\n",
    "## Node definition\n",
    "def chatbot(state:State):\n",
    "    return {\"messages\":[llm.invoke(state[\"messages\"])]}\n",
    "\n",
    "## Grpah\n",
    "builder=StateGraph(State)\n",
    "builder.add_node(\"chatbot\",chatbot)\n",
    "\n",
    "## Add Edges\n",
    "builder.add_edge(START, \"chatbot\")\n",
    "\n",
    "builder.add_edge(\"chatbot\",END)\n",
    "\n",
    "## compile the graph\n",
    "graph=builder.compile(checkpointer=memory)\n",
    "\n",
    "from IPython.display import Image, display\n",
    "display(Image(graph.get_graph().draw_mermaid_png()))"
   ]
  },
  {
   "cell_type": "code",
   "execution_count": 105,
   "id": "ebc6cddb",
   "metadata": {},
   "outputs": [
    {
     "name": "stdout",
     "output_type": "stream",
     "text": [
      "================================\u001b[1m Human Message \u001b[0m=================================\n",
      "\n",
      "Hello\n",
      "==================================\u001b[1m Ai Message \u001b[0m==================================\n",
      "\n",
      "Hello! How can I assist you today? 😊\n"
     ]
    }
   ],
   "source": [
    "config={\"configurable\":{\"thread_id\":\"1\"}}\n",
    "\n",
    "response=graph.invoke({\"messages\":\"Hello\"},config=config)\n",
    "\n",
    "for m in response['messages']:\n",
    "    m.pretty_print()"
   ]
  },
  {
   "cell_type": "markdown",
   "id": "ca309b43",
   "metadata": {},
   "source": [
    "Methods: .stream() and astream()\n",
    "\n",
    "    These methods are sync and async methods for streaming back results.\n",
    "\n",
    "Additional parameters in streaming modes for graph state\n",
    "\n",
    "    values : This streams the full state of the graph after each node is called.\n",
    "    updates : This streams updates to the state of the graph after each node is called.\n"
   ]
  },
  {
   "cell_type": "code",
   "execution_count": 112,
   "id": "a0cfbf5c",
   "metadata": {},
   "outputs": [
    {
     "name": "stdout",
     "output_type": "stream",
     "text": [
      "{'chatbot': {'messages': [AIMessage(content=\"Hi Ali! It's great to meet you. Cricket is such an exciting sport—do you have a favorite team or player you support? I'd love to hear more about what you enjoy most about the game!\", additional_kwargs={'reasoning_content': \"Okay, so I just met someone named Ali Assi who likes cricket. I want to respond in a friendly and engaging way. First, I should acknowledge his name and his interest. Maybe start with a greeting and express that it's nice to meet him. Then, I can ask him a bit more about his interest in cricket to keep the conversation going. I should keep it casual and open-ended so he feels comfortable sharing more. Maybe ask which team he supports or who his favorite player is. That way, I can learn more about his interests and perhaps find some common ground. I should also make sure my response is positive and enthusiastic to show genuine interest.\\n\"}, response_metadata={'token_usage': {'completion_tokens': 181, 'prompt_tokens': 15, 'total_tokens': 196, 'completion_time': 0.819183817, 'prompt_time': 0.000791006, 'queue_time': 0.009632222, 'total_time': 0.819974823}, 'model_name': 'deepseek-r1-distill-llama-70b', 'system_fingerprint': 'fp_1bbe7845ec', 'finish_reason': 'stop', 'logprobs': None}, id='run--f14aabf3-ffba-4f6d-98b4-986214a3aed6-0', usage_metadata={'input_tokens': 15, 'output_tokens': 181, 'total_tokens': 196})]}}\n"
     ]
    }
   ],
   "source": [
    "config = {\"configurable\": {\"thread_id\": \"4\"}}\n",
    "\n",
    "for chunk in graph.stream({'messages':\"Hi,My name is Ali Assi And I like cricket\"},config,stream_mode=\"updates\"):\n",
    "    print(chunk)"
   ]
  },
  {
   "cell_type": "code",
   "execution_count": 114,
   "id": "0eb62e88",
   "metadata": {},
   "outputs": [
    {
     "name": "stdout",
     "output_type": "stream",
     "text": [
      "{'messages': [HumanMessage(content='Hi,My name is Ali And I like cricket', additional_kwargs={}, response_metadata={}, id='ec1500ab-6cc3-490d-b743-bb48b0943c67')]}\n",
      "{'messages': [HumanMessage(content='Hi,My name is Ali And I like cricket', additional_kwargs={}, response_metadata={}, id='ec1500ab-6cc3-490d-b743-bb48b0943c67'), AIMessage(content=\"Hi Ali! It's great to meet you. Cricket is such an exciting sport—do you have a favorite team or player you always support?\", additional_kwargs={'reasoning_content': \"Okay, so I just met someone named Ali who likes cricket. I want to respond in a friendly and engaging way. First, I should acknowledge his name and his interest. Maybe start with a greeting and express that it's nice to meet him. Then, I can ask him a question about cricket to keep the conversation going. I should think about what aspects of cricket someone might be interested in—like their favorite team, player, format of the game, or maybe a memorable match they've watched. I don't want to make it too complicated, so maybe just a simple question to show interest. I should also keep the tone casual and enthusiastic to make the conversation pleasant.\\n\"}, response_metadata={'token_usage': {'completion_tokens': 170, 'prompt_tokens': 13, 'total_tokens': 183, 'completion_time': 0.746853864, 'prompt_time': 0.000410853, 'queue_time': 0.009826294000000001, 'total_time': 0.747264717}, 'model_name': 'deepseek-r1-distill-llama-70b', 'system_fingerprint': 'fp_1bbe7845ec', 'finish_reason': 'stop', 'logprobs': None}, id='run--e3391772-98be-43c9-a2e2-1c18c3eb3701-0', usage_metadata={'input_tokens': 13, 'output_tokens': 170, 'total_tokens': 183})]}\n"
     ]
    }
   ],
   "source": [
    "config = {\"configurable\": {\"thread_id\": \"5\"}}\n",
    "\n",
    "for chunk in graph.stream({'messages':\"Hi,My name is Ali And I like cricket\"},config,stream_mode=\"values\"):\n",
    "    print(chunk)"
   ]
  },
  {
   "cell_type": "code",
   "execution_count": 127,
   "id": "27c70baa",
   "metadata": {},
   "outputs": [
    {
     "name": "stdout",
     "output_type": "stream",
     "text": [
      "Alright, the user just said, \"i love football.\" Let me see. Earlier, they mentioned their name is Ali and they like cricket. Now they're expressing love for football. Hmm, so they enjoy two sports. I should acknowledge both interests.\n",
      "\n",
      "I want to make sure they feel heard. Maybe I can ask which one they prefer or if they play either. That way, the conversation stays engaging. I should keep it friendly and open-ended to encourage them to share more.\n",
      "\n",
      "--------------------------------------------------------------------------------\n",
      "\n",
      "That's awesome, Ali! Football is such a thrilling sport with so much energy and teamwork. Do you have a favorite football team or player? Or do you prefer playing the game yourself?"
     ]
    }
   ],
   "source": [
    "from langchain_core.messages import AIMessageChunk\n",
    "reasoning_phase = True\n",
    "separator_printed = False\n",
    "config = {\"configurable\": {\"thread_id\": \"7\"}}\n",
    "\n",
    "async for event in graph.astream_events({\"messages\":[\"i love football\"]}, config, version=\"v2\"):\n",
    "    if event.get('event') == 'on_chat_model_stream':\n",
    "        chunk = event.get('data', {}).get('chunk')\n",
    "        \n",
    "        if isinstance(chunk, AIMessageChunk):\n",
    "            reasoning = chunk.additional_kwargs.get('reasoning_content', '')\n",
    "            content = chunk.content\n",
    "            \n",
    "            if reasoning and reasoning_phase:\n",
    "                # We're in reasoning phase\n",
    "                print(reasoning, end='')\n",
    "            elif content and reasoning_phase:\n",
    "                # Transition from reasoning to content\n",
    "                if not separator_printed:\n",
    "                    print(\"\\n\" + \"-\" * 80 + \"\\n\")\n",
    "                    separator_printed = True\n",
    "                    reasoning_phase = False\n",
    "                print(content, end='')\n",
    "            elif content and not reasoning_phase:\n",
    "                # Continue with content\n",
    "                print(content, end='')"
   ]
  }
 ],
 "metadata": {
  "kernelspec": {
   "display_name": "Langraph",
   "language": "python",
   "name": "python3"
  },
  "language_info": {
   "codemirror_mode": {
    "name": "ipython",
    "version": 3
   },
   "file_extension": ".py",
   "mimetype": "text/x-python",
   "name": "python",
   "nbconvert_exporter": "python",
   "pygments_lexer": "ipython3",
   "version": "3.12.4"
  }
 },
 "nbformat": 4,
 "nbformat_minor": 5
}
