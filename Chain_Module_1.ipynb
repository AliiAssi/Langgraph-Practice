{
  "nbformat": 4,
  "nbformat_minor": 0,
  "metadata": {
    "colab": {
      "provenance": [],
      "authorship_tag": "ABX9TyPqCXaYOmW0+zXdw7hULQbY",
      "include_colab_link": true
    },
    "kernelspec": {
      "name": "python3",
      "display_name": "Python 3"
    },
    "language_info": {
      "name": "python"
    }
  },
  "cells": [
    {
      "cell_type": "markdown",
      "metadata": {
        "id": "view-in-github",
        "colab_type": "text"
      },
      "source": [
        "<a href=\"https://colab.research.google.com/github/AliiAssi/Langgraph-Practice/blob/main/Chain_Module_1.ipynb\" target=\"_parent\"><img src=\"https://colab.research.google.com/assets/colab-badge.svg\" alt=\"Open In Colab\"/></a>"
      ]
    },
    {
      "cell_type": "code",
      "execution_count": null,
      "metadata": {
        "id": "_oeTjo8HqZSz"
      },
      "outputs": [],
      "source": [
        "%%capture --no-stderr\n",
        "%pip install --quiet -U langchain_mistralai langchain_core langgraph"
      ]
    },
    {
      "cell_type": "code",
      "source": [
        "import os\n",
        "os.environ[\"MISTRAL_API_KEY\"] = \"*_*\" # add your api-key"
      ],
      "metadata": {
        "id": "8_aMZoxarO_Z"
      },
      "execution_count": null,
      "outputs": []
    },
    {
      "cell_type": "code",
      "source": [
        "from langchain_mistralai import ChatMistralAI\n",
        "\n",
        "llm = ChatMistralAI(\n",
        "    model=\"mistral-large-latest\",\n",
        "    temperature=0,\n",
        ")"
      ],
      "metadata": {
        "id": "84XJuyMrrPm_"
      },
      "execution_count": null,
      "outputs": []
    },
    {
      "cell_type": "code",
      "source": [
        "ai_msg = llm.invoke(\"leo messi in 3 words?\")\n",
        "ai_msg"
      ],
      "metadata": {
        "colab": {
          "base_uri": "https://localhost:8080/"
        },
        "id": "h8Pj_mAbrRfj",
        "outputId": "c9d7f340-fc7a-4e56-d7bb-67ba6a17edb3"
      },
      "execution_count": null,
      "outputs": [
        {
          "output_type": "execute_result",
          "data": {
            "text/plain": [
              "AIMessage(content='Describing Leo Messi in just three words is challenging given his extensive career and impact, but here are three that capture key aspects:\\n\\n1. **Skillful**\\n2. **Consistent**\\n3. **Iconic**\\n\\nThese words highlight his incredible talent, his sustained high level of performance over many years, and his status as one of the greatest footballers of all time.', additional_kwargs={}, response_metadata={'token_usage': {'prompt_tokens': 12, 'total_tokens': 97, 'completion_tokens': 85}, 'model_name': 'mistral-large-latest', 'model': 'mistral-large-latest', 'finish_reason': 'stop'}, id='run-3a0453a7-1ec4-4ce5-9627-8d0509ccf7f5-0', usage_metadata={'input_tokens': 12, 'output_tokens': 85, 'total_tokens': 97})"
            ]
          },
          "metadata": {},
          "execution_count": 56
        }
      ]
    },
    {
      "cell_type": "markdown",
      "source": [
        "### HERE WE GO"
      ],
      "metadata": {
        "id": "Uzi3yaYMs_kI"
      }
    },
    {
      "cell_type": "code",
      "source": [
        "from langchain_core.messages import AIMessage, HumanMessage"
      ],
      "metadata": {
        "id": "nAea7k6Es-JR"
      },
      "execution_count": null,
      "outputs": []
    },
    {
      "cell_type": "code",
      "source": [
        "def multiply(a: int, b: int) -> int:\n",
        "    \"\"\"Multiply a and b.\n",
        "\n",
        "    Args:\n",
        "        a: first int\n",
        "        b: second int\n",
        "    \"\"\"\n",
        "    return a * b\n",
        "\n",
        "llm_with_tools = llm.bind_tools([multiply])"
      ],
      "metadata": {
        "id": "sKhldm5urkB3"
      },
      "execution_count": null,
      "outputs": []
    },
    {
      "cell_type": "code",
      "source": [
        "tool_call = llm_with_tools.invoke([HumanMessage(content=f\"What is 2 multiplied by 3\", name=\"Lance\")])"
      ],
      "metadata": {
        "id": "gmjwSFfIs1Ly"
      },
      "execution_count": null,
      "outputs": []
    },
    {
      "cell_type": "code",
      "source": [
        "tool_call.tool_calls"
      ],
      "metadata": {
        "colab": {
          "base_uri": "https://localhost:8080/"
        },
        "id": "WqQzj88dtOhF",
        "outputId": "8d998046-276d-4b1f-bf25-d0502ddf8441"
      },
      "execution_count": null,
      "outputs": [
        {
          "output_type": "execute_result",
          "data": {
            "text/plain": [
              "[{'name': 'multiply',\n",
              "  'args': {'a': 2, 'b': 3},\n",
              "  'id': '1SrrtltAv',\n",
              "  'type': 'tool_call'}]"
            ]
          },
          "metadata": {},
          "execution_count": 60
        }
      ]
    },
    {
      "cell_type": "code",
      "source": [
        "import time\n",
        "import random\n",
        "\n",
        "def call_with_retry(func, max_retries=5):\n",
        "    for attempt in range(max_retries):\n",
        "        try:\n",
        "            return func()\n",
        "        except httpx.HTTPStatusError as e:\n",
        "            if e.response.status_code == 429:\n",
        "                # Exponential backoff with jitter\n",
        "                sleep_time = (2 ** attempt) + random.random()\n",
        "                print(f\"Rate limited. Retrying in {sleep_time:.2f} seconds...\")\n",
        "                time.sleep(sleep_time)\n",
        "                continue\n",
        "            else:\n",
        "                raise\n",
        "    raise Exception(\"Max retries exceeded\")\n",
        "\n",
        "# Usage:\n",
        "result = call_with_retry(lambda: llm_with_tools.invoke([HumanMessage(content=\"HELLO\", name=\"ali\")]))"
      ],
      "metadata": {
        "id": "l3ugdUk94Vrx"
      },
      "execution_count": null,
      "outputs": []
    },
    {
      "cell_type": "code",
      "source": [
        "print(result)"
      ],
      "metadata": {
        "colab": {
          "base_uri": "https://localhost:8080/"
        },
        "id": "F0wX4EVs4aa0",
        "outputId": "f6ff405e-2833-497a-ce9a-577f7c4558a6"
      },
      "execution_count": null,
      "outputs": [
        {
          "output_type": "stream",
          "name": "stdout",
          "text": [
            "content='Hello! How can I assist you today?' additional_kwargs={} response_metadata={'token_usage': {'prompt_tokens': 92, 'total_tokens': 102, 'completion_tokens': 10}, 'model_name': 'mistral-large-latest', 'model': 'mistral-large-latest', 'finish_reason': 'stop'} id='run-c37d342c-f9bf-4878-bbd4-0b98b9505940-0' usage_metadata={'input_tokens': 92, 'output_tokens': 10, 'total_tokens': 102}\n"
          ]
        }
      ]
    },
    {
      "cell_type": "code",
      "source": [
        "llm_with_tools.invoke([HumanMessage(content=f\"What is my name?\", name=\"ali\")])"
      ],
      "metadata": {
        "colab": {
          "base_uri": "https://localhost:8080/"
        },
        "id": "_fze0K7zxEQW",
        "outputId": "b63870f2-d3c0-4cff-b947-7a16dc32c347"
      },
      "execution_count": null,
      "outputs": [
        {
          "output_type": "execute_result",
          "data": {
            "text/plain": [
              "AIMessage(content=\"I don't have access to personal information about you, including your name. If you'd like to share your name or have any other questions, feel free to let me know!\", additional_kwargs={}, response_metadata={'token_usage': {'prompt_tokens': 94, 'total_tokens': 133, 'completion_tokens': 39}, 'model_name': 'mistral-large-latest', 'model': 'mistral-large-latest', 'finish_reason': 'stop'}, id='run-39927a44-5a51-4f97-a5f1-b7de7090ef5f-0', usage_metadata={'input_tokens': 94, 'output_tokens': 39, 'total_tokens': 133})"
            ]
          },
          "metadata": {},
          "execution_count": 64
        }
      ]
    },
    {
      "cell_type": "code",
      "source": [
        "def get_user_name():\n",
        "    return \"ali\""
      ],
      "metadata": {
        "id": "UBh_fwzWxTjK"
      },
      "execution_count": null,
      "outputs": []
    },
    {
      "cell_type": "code",
      "source": [
        "llm_with_tools = llm.bind_tools([get_user_name, multiply])"
      ],
      "metadata": {
        "id": "SghD55sVzDwL"
      },
      "execution_count": null,
      "outputs": []
    },
    {
      "cell_type": "code",
      "source": [
        "res = llm_with_tools.invoke([HumanMessage(content=\"tell me my name\", name=\"ali\")])"
      ],
      "metadata": {
        "id": "VoOmJliFydqp"
      },
      "execution_count": null,
      "outputs": []
    },
    {
      "cell_type": "code",
      "source": [
        "res.tool_calls"
      ],
      "metadata": {
        "colab": {
          "base_uri": "https://localhost:8080/"
        },
        "id": "dw6_moFfzPlr",
        "outputId": "3d3c08bb-a68e-4920-e569-b29717220803"
      },
      "execution_count": null,
      "outputs": [
        {
          "output_type": "execute_result",
          "data": {
            "text/plain": [
              "[{'name': 'get_user_name', 'args': {}, 'id': 'sXUgxbN6c', 'type': 'tool_call'}]"
            ]
          },
          "metadata": {},
          "execution_count": 68
        }
      ]
    },
    {
      "cell_type": "markdown",
      "source": [
        "### Dependencies"
      ],
      "metadata": {
        "id": "Id9fEcr80TH0"
      }
    },
    {
      "cell_type": "code",
      "source": [
        "from typing_extensions import TypedDict\n",
        "from langchain_core.messages import AnyMessage\n",
        "from typing import Annotated\n",
        "from langgraph.graph.message import add_messages\n",
        "from langgraph.graph import MessagesState\n",
        "from IPython.display import Image, display\n",
        "from langgraph.graph import StateGraph, START, END"
      ],
      "metadata": {
        "id": "TaFnRmLGzba7"
      },
      "execution_count": null,
      "outputs": []
    },
    {
      "cell_type": "markdown",
      "source": [
        "### Rest"
      ],
      "metadata": {
        "id": "NZz8wtT11ZWr"
      }
    },
    {
      "cell_type": "code",
      "source": [
        "class MessagesState(TypedDict):\n",
        "    messages: list[AnyMessage]\n",
        "\n",
        "class MessagesState(TypedDict):\n",
        "    messages: Annotated[list[AnyMessage], add_messages]\n",
        "class MessagesState(MessagesState):\n",
        "    # Add any keys needed beyond messages, which is pre-built\n",
        "    pass"
      ],
      "metadata": {
        "id": "iAbu60HJ019b"
      },
      "execution_count": null,
      "outputs": []
    },
    {
      "cell_type": "code",
      "source": [
        "# Initial state\n",
        "initial_messages = [AIMessage(content=\"Hello! How can I assist you?\", name=\"Model\"),\n",
        "                    HumanMessage(content=\"I'm looking for information on marine biology.\", name=\"Lance\")\n",
        "                   ]\n",
        "\n",
        "# New message to add\n",
        "new_message = AIMessage(content=\"Sure, I can help with that. What specifically are you interested in?\", name=\"Model\")\n",
        "\n",
        "# Test\n",
        "add_messages(initial_messages , new_message)"
      ],
      "metadata": {
        "colab": {
          "base_uri": "https://localhost:8080/"
        },
        "id": "JCkLkvno1L4b",
        "outputId": "67148494-055a-4da1-afe6-3350aa7c2437"
      },
      "execution_count": null,
      "outputs": [
        {
          "output_type": "execute_result",
          "data": {
            "text/plain": [
              "[AIMessage(content='Hello! How can I assist you?', additional_kwargs={}, response_metadata={}, name='Model', id='9aaeb85e-049c-4240-8180-dc029f59d30c'),\n",
              " HumanMessage(content=\"I'm looking for information on marine biology.\", additional_kwargs={}, response_metadata={}, name='Lance', id='de236d99-78ef-4faa-b04c-e2f3f7ec67f3'),\n",
              " AIMessage(content='Sure, I can help with that. What specifically are you interested in?', additional_kwargs={}, response_metadata={}, name='Model', id='68c81579-8b13-4e3c-aa52-af9c44a12908')]"
            ]
          },
          "metadata": {},
          "execution_count": 71
        }
      ]
    },
    {
      "cell_type": "markdown",
      "source": [
        "### Graph Building"
      ],
      "metadata": {
        "id": "AHV1c-Er1uwj"
      }
    },
    {
      "cell_type": "code",
      "source": [
        "# Node\n",
        "def tool_calling_llm(state: MessagesState):\n",
        "    return {\"messages\": [llm_with_tools.invoke(state[\"messages\"])]}"
      ],
      "metadata": {
        "id": "SXz1WrBb1Mmw"
      },
      "execution_count": null,
      "outputs": []
    },
    {
      "cell_type": "code",
      "source": [
        "# Build graph\n",
        "builder = StateGraph(\n",
        "  MessagesState)\n",
        "builder.add_node(\"tool_calling_llm\", tool_calling_llm)\n",
        "builder.add_edge(START, \"tool_calling_llm\")\n",
        "builder.add_edge(\"tool_calling_llm\", END)\n",
        "graph = builder.compile()"
      ],
      "metadata": {
        "id": "DQinpB7G2iBm"
      },
      "execution_count": null,
      "outputs": []
    },
    {
      "cell_type": "code",
      "source": [
        "display(Image(graph.get_graph().draw_mermaid_png()))"
      ],
      "metadata": {
        "colab": {
          "base_uri": "https://localhost:8080/",
          "height": 251
        },
        "id": "2wwtosRc2rf1",
        "outputId": "86ba39f3-1fc0-461d-af1f-e74dcdf9bf13"
      },
      "execution_count": null,
      "outputs": [
        {
          "output_type": "display_data",
          "data": {
            "image/png": "[encoded data removed]",
            "text/plain": [
              "<IPython.core.display.Image object>"
            ]
          },
          "metadata": {}
        }
      ]
    },
    {
      "cell_type": "code",
      "source": [
        "messages = graph.invoke({\"messages\": HumanMessage(content=\"Hello!\")})\n",
        "for m in messages['messages']:\n",
        "    print(m)"
      ],
      "metadata": {
        "colab": {
          "base_uri": "https://localhost:8080/"
        },
        "id": "lwYl5x8Y2tae",
        "outputId": "1ed72d40-552f-4cb1-e2fb-a62e71367063"
      },
      "execution_count": null,
      "outputs": [
        {
          "output_type": "stream",
          "name": "stdout",
          "text": [
            "content='Hello!' additional_kwargs={} response_metadata={} id='b9b4b1c9-51f2-4f9d-919d-77e7383fd649'\n",
            "content='Hi! How can I assist you today?' additional_kwargs={} response_metadata={'token_usage': {'prompt_tokens': 129, 'total_tokens': 139, 'completion_tokens': 10}, 'model_name': 'mistral-large-latest', 'model': 'mistral-large-latest', 'finish_reason': 'stop'} id='run-748fece5-f4a0-49c1-ad34-10f4dfd37ca6-0' usage_metadata={'input_tokens': 129, 'output_tokens': 10, 'total_tokens': 139}\n"
          ]
        }
      ]
    },
    {
      "cell_type": "code",
      "source": [
        "messages = graph.invoke({\"messages\": HumanMessage(content=\"Multiply 2 and 3\")})\n",
        "for m in messages['messages']:\n",
        "    print(m)"
      ],
      "metadata": {
        "colab": {
          "base_uri": "https://localhost:8080/"
        },
        "id": "CXvslR523XcN",
        "outputId": "494b937f-5717-4786-e772-c45344544948"
      },
      "execution_count": null,
      "outputs": [
        {
          "output_type": "stream",
          "name": "stdout",
          "text": [
            "content='Multiply 2 and 3' additional_kwargs={} response_metadata={} id='d7f7470d-5b85-43be-8d30-d04aac13afca'\n",
            "content='' additional_kwargs={'tool_calls': [{'id': 'EkFXHxoRj', 'function': {'name': 'multiply', 'arguments': '{\"a\": 2, \"b\": 3}'}, 'index': 0}]} response_metadata={'token_usage': {'prompt_tokens': 135, 'total_tokens': 161, 'completion_tokens': 26}, 'model_name': 'mistral-large-latest', 'model': 'mistral-large-latest', 'finish_reason': 'tool_calls'} id='run-43f7a1fd-2919-4553-9821-f9d410105e55-0' tool_calls=[{'name': 'multiply', 'args': {'a': 2, 'b': 3}, 'id': 'EkFXHxoRj', 'type': 'tool_call'}] usage_metadata={'input_tokens': 135, 'output_tokens': 26, 'total_tokens': 161}\n"
          ]
        }
      ]
    },
    {
      "cell_type": "code",
      "source": [
        "messages = graph.invoke({\"messages\": HumanMessage(content=\"what is my name\")})\n",
        "for m in messages['messages']:\n",
        "    print(m)"
      ],
      "metadata": {
        "colab": {
          "base_uri": "https://localhost:8080/"
        },
        "id": "nHJairh74xGA",
        "outputId": "2a847600-d1ac-4905-8c02-35c6326be836"
      },
      "execution_count": null,
      "outputs": [
        {
          "output_type": "stream",
          "name": "stdout",
          "text": [
            "content='what is my name' additional_kwargs={} response_metadata={} id='580d6b07-8bbd-49c6-acc7-73d47deb7fea'\n",
            "content='' additional_kwargs={'tool_calls': [{'id': 'RRBIE8B3q', 'function': {'name': 'get_user_name', 'arguments': '{}'}, 'index': 0}]} response_metadata={'token_usage': {'prompt_tokens': 131, 'total_tokens': 150, 'completion_tokens': 19}, 'model_name': 'mistral-large-latest', 'model': 'mistral-large-latest', 'finish_reason': 'tool_calls'} id='run-d908c2dc-2eb4-444a-960d-262835a656a9-0' tool_calls=[{'name': 'get_user_name', 'args': {}, 'id': 'RRBIE8B3q', 'type': 'tool_call'}] usage_metadata={'input_tokens': 131, 'output_tokens': 19, 'total_tokens': 150}\n"
          ]
        }
      ]
    },
    {
      "cell_type": "code",
      "source": [
        "messages = graph.invoke({\"messages\": HumanMessage(content=\"what is the name of the FOOTBALL GOAT\")})\n",
        "for m in messages['messages']:\n",
        "    print(m)"
      ],
      "metadata": {
        "colab": {
          "base_uri": "https://localhost:8080/"
        },
        "id": "WxQg7rOy42UT",
        "outputId": "b6006300-6696-4213-d366-8ef6d64ed031"
      },
      "execution_count": null,
      "outputs": [
        {
          "output_type": "stream",
          "name": "stdout",
          "text": [
            "content='what is the name of the FOOTBALL GOAT' additional_kwargs={} response_metadata={} id='e70d1321-ddff-44dd-94c7-e8c45b53f2ee'\n",
            "content='The name often associated with the title of the \"GOAT\" (Greatest Of All Time) in football (soccer) can vary depending on personal opinions and criteria. However, two names frequently mentioned in this context are:\\n\\n1. **Lionel Messi** - An Argentine forward known for his incredible dribbling skills, goal-scoring ability, and playmaking.\\n2. **Cristiano Ronaldo** - A Portuguese forward renowned for his athleticism, goal-scoring prowess, and consistency.\\n\\nBoth players have had extraordinary careers with numerous records and accolades. The debate between Messi and Ronaldo is a common topic among football fans and analysts.' additional_kwargs={} response_metadata={'token_usage': {'prompt_tokens': 139, 'total_tokens': 290, 'completion_tokens': 151}, 'model_name': 'mistral-large-latest', 'model': 'mistral-large-latest', 'finish_reason': 'stop'} id='run-71b87660-c1f5-4df8-912e-5d369a28a210-0' usage_metadata={'input_tokens': 139, 'output_tokens': 151, 'total_tokens': 290}\n"
          ]
        }
      ]
    }
  ]
}